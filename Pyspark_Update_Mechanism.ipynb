{
  "nbformat": 4,
  "nbformat_minor": 0,
  "metadata": {
    "colab": {
      "provenance": [],
      "include_colab_link": true
    },
    "kernelspec": {
      "name": "python3",
      "display_name": "Python 3"
    },
    "language_info": {
      "name": "python"
    }
  },
  "cells": [
    {
      "cell_type": "markdown",
      "metadata": {
        "id": "view-in-github",
        "colab_type": "text"
      },
      "source": [
        "<a href=\"https://colab.research.google.com/github/meltemyilmaz024/PySpark-Examples/blob/main/Pyspark_Update_Mechanism.ipynb\" target=\"_parent\"><img src=\"https://colab.research.google.com/assets/colab-badge.svg\" alt=\"Open In Colab\"/></a>"
      ]
    },
    {
      "cell_type": "code",
      "source": [
        "pip install pyspark"
      ],
      "metadata": {
        "colab": {
          "base_uri": "https://localhost:8080/"
        },
        "id": "4hHUDSPlDAY_",
        "outputId": "13611abf-0831-4542-8143-6528857cfbfc"
      },
      "execution_count": null,
      "outputs": [
        {
          "output_type": "stream",
          "name": "stdout",
          "text": [
            "Collecting pyspark\n",
            "  Downloading pyspark-3.5.0.tar.gz (316.9 MB)\n",
            "\u001b[2K     \u001b[90m━━━━━━━━━━━━━━━━━━━━━━━━━━━━━━━━━━━━━━━━\u001b[0m \u001b[32m316.9/316.9 MB\u001b[0m \u001b[31m2.6 MB/s\u001b[0m eta \u001b[36m0:00:00\u001b[0m\n",
            "\u001b[?25h  Preparing metadata (setup.py) ... \u001b[?25l\u001b[?25hdone\n",
            "Requirement already satisfied: py4j==0.10.9.7 in /usr/local/lib/python3.10/dist-packages (from pyspark) (0.10.9.7)\n",
            "Building wheels for collected packages: pyspark\n",
            "  Building wheel for pyspark (setup.py) ... \u001b[?25l\u001b[?25hdone\n",
            "  Created wheel for pyspark: filename=pyspark-3.5.0-py2.py3-none-any.whl size=317425345 sha256=8fbadee0ff0b800d9b9dc71aec0a94b5fc4b97bb5b357a6e81ba74c52677b30c\n",
            "  Stored in directory: /root/.cache/pip/wheels/41/4e/10/c2cf2467f71c678cfc8a6b9ac9241e5e44a01940da8fbb17fc\n",
            "Successfully built pyspark\n",
            "Installing collected packages: pyspark\n",
            "Successfully installed pyspark-3.5.0\n"
          ]
        }
      ]
    },
    {
      "cell_type": "code",
      "execution_count": 28,
      "metadata": {
        "colab": {
          "base_uri": "https://localhost:8080/"
        },
        "id": "kydmSkpPC7rD",
        "outputId": "c383df8b-dfdf-402c-f189-0ecfebb4113f"
      },
      "outputs": [
        {
          "output_type": "stream",
          "name": "stdout",
          "text": [
            "root\n",
            " |-- emp_id: long (nullable = true)\n",
            " |-- name: string (nullable = true)\n",
            " |-- superior_emp_id: long (nullable = true)\n",
            " |-- year_joined: string (nullable = true)\n",
            " |-- emp_dept_id: string (nullable = true)\n",
            " |-- gender: string (nullable = true)\n",
            " |-- salary: long (nullable = true)\n",
            "\n",
            "+------+--------+---------------+-----------+-----------+------+------+\n",
            "|emp_id|name    |superior_emp_id|year_joined|emp_dept_id|gender|salary|\n",
            "+------+--------+---------------+-----------+-----------+------+------+\n",
            "|1     |Smith   |-1             |2018       |10         |M     |3000  |\n",
            "|2     |Rose    |1              |2010       |20         |M     |4000  |\n",
            "|3     |Williams|1              |2010       |10         |M     |1000  |\n",
            "|4     |Jones   |2              |2005       |10         |F     |2000  |\n",
            "|5     |Brown   |2              |2010       |40         |      |-1    |\n",
            "|7     |Batman  |2              |2010       |           |      |-1    |\n",
            "|8     |Superman|2              |2010       |60         |      |-1    |\n",
            "|9     |        |2              |2010       |60         |      |-1    |\n",
            "|6     |Brown   |2              |2010       |50         |      |-1    |\n",
            "+------+--------+---------------+-----------+-----------+------+------+\n",
            "\n",
            "root\n",
            " |-- name: string (nullable = true)\n",
            " |-- dept_id: long (nullable = true)\n",
            "\n",
            "+---------+-------+\n",
            "|name     |dept_id|\n",
            "+---------+-------+\n",
            "|Finance  |10     |\n",
            "|Marketing|20     |\n",
            "|Sales    |30     |\n",
            "|Big Data |90     |\n",
            "|IT       |40     |\n",
            "+---------+-------+\n",
            "\n"
          ]
        }
      ],
      "source": [
        "import pyspark\n",
        "from pyspark.sql import SparkSession\n",
        "from pyspark.sql.functions import col, when, substring, concat, lit\n",
        "\n",
        "spark = SparkSession.builder.appName('SparkByExamples.com').getOrCreate()\n",
        "\n",
        "emp = [\n",
        "    (1, \"Smith\", -1, \"2018\", \"10\", \"M\", 3000),\n",
        "    (2, \"Rose\", 1, \"2010\", \"20\", \"M\", 4000),\n",
        "    (3, \"Williams\", 1, \"2010\", \"10\", \"M\", 1000),\n",
        "    (4, \"Jones\", 2, \"2005\", \"10\", \"F\", 2000),\n",
        "    (5, \"Brown\", 2, \"2010\", \"40\", \"\", -1),\n",
        "    (7, \"Batman\", 2, \"2010\", \"\", \"\", -1),\n",
        "    (8, \"Superman\", 2, \"2010\", \"60\", \"\", -1),\n",
        "    (9, \"\", 2, \"2010\", \"60\", \"\", -1),\n",
        "    (6, \"Brown\", 2, \"2010\", \"50\", \"\", -1)\n",
        "]\n",
        "empColumns = [\"emp_id\",\"name\",\"superior_emp_id\",\"year_joined\", \\\n",
        "       \"emp_dept_id\",\"gender\",\"salary\"]\n",
        "\n",
        "empDF = spark.createDataFrame(data=emp, schema = empColumns)\n",
        "empDF.printSchema()\n",
        "empDF.show(truncate=False)\n",
        "\n",
        "\n",
        "dept = [(\"Finance\",10), \\\n",
        "    (\"Marketing\",20), \\\n",
        "    (\"Sales\",30), \\\n",
        "    (\"Big Data\",90), \\\n",
        "    (\"IT\",40) \\\n",
        "  ]\n",
        "deptColumns = [\"name\",\"dept_id\"]\n",
        "deptDF = spark.createDataFrame(data=dept, schema = deptColumns)\n",
        "deptDF.printSchema()\n",
        "deptDF.show(truncate=False)"
      ]
    },
    {
      "cell_type": "code",
      "source": [
        "# LEFT OUTER JOIN\n",
        "empDF.join(deptDF, empDF.emp_dept_id ==  deptDF.dept_id) \\\n",
        "   .show(truncate=False)"
      ],
      "metadata": {
        "colab": {
          "base_uri": "https://localhost:8080/"
        },
        "id": "_CpW5wr035MH",
        "outputId": "15440764-2575-443a-8465-264ed5e208d1"
      },
      "execution_count": null,
      "outputs": [
        {
          "output_type": "stream",
          "name": "stdout",
          "text": [
            "+------+--------+---------------+-----------+-----------+------+------+---------+-------+\n",
            "|emp_id|name    |superior_emp_id|year_joined|emp_dept_id|gender|salary|name     |dept_id|\n",
            "+------+--------+---------------+-----------+-----------+------+------+---------+-------+\n",
            "|3     |Williams|1              |2010       |10         |M     |1000  |Finance  |10     |\n",
            "|4     |Jones   |2              |2005       |10         |F     |2000  |Finance  |10     |\n",
            "|1     |Smith   |-1             |2018       |10         |M     |3000  |Finance  |10     |\n",
            "|2     |Rose    |1              |2010       |20         |M     |4000  |Marketing|20     |\n",
            "|5     |Brown   |2              |2010       |40         |      |-1    |IT       |40     |\n",
            "+------+--------+---------------+-----------+-----------+------+------+---------+-------+\n",
            "\n"
          ]
        }
      ]
    },
    {
      "cell_type": "code",
      "source": [
        "# LEFT OUTER JOIN\n",
        "empDF.join(deptDF,empDF.emp_dept_id ==  deptDF.dept_id,\"inner\") \\\n",
        "   .show(truncate=False)"
      ],
      "metadata": {
        "colab": {
          "base_uri": "https://localhost:8080/"
        },
        "id": "3Qu2hie04YWo",
        "outputId": "603f3040-7b59-4485-e1ee-e368a3888b8e"
      },
      "execution_count": null,
      "outputs": [
        {
          "output_type": "stream",
          "name": "stdout",
          "text": [
            "+------+--------+---------------+-----------+-----------+------+------+---------+-------+\n",
            "|emp_id|name    |superior_emp_id|year_joined|emp_dept_id|gender|salary|name     |dept_id|\n",
            "+------+--------+---------------+-----------+-----------+------+------+---------+-------+\n",
            "|3     |Williams|1              |2010       |10         |M     |1000  |Finance  |10     |\n",
            "|4     |Jones   |2              |2005       |10         |F     |2000  |Finance  |10     |\n",
            "|1     |Smith   |-1             |2018       |10         |M     |3000  |Finance  |10     |\n",
            "|2     |Rose    |1              |2010       |20         |M     |4000  |Marketing|20     |\n",
            "|5     |Brown   |2              |2010       |40         |      |-1    |IT       |40     |\n",
            "+------+--------+---------------+-----------+-----------+------+------+---------+-------+\n",
            "\n"
          ]
        }
      ]
    },
    {
      "cell_type": "code",
      "source": [
        "# LEFT OUTER JOIN\n",
        "empDF.join(deptDF,empDF.emp_dept_id ==  deptDF.dept_id,\"leftouter\") \\\n",
        "   .show(truncate=False)"
      ],
      "metadata": {
        "colab": {
          "base_uri": "https://localhost:8080/"
        },
        "id": "mSL2LxqPDave",
        "outputId": "40ff791f-a4c1-4534-ba6a-bc4166df6cc6"
      },
      "execution_count": null,
      "outputs": [
        {
          "output_type": "stream",
          "name": "stdout",
          "text": [
            "+------+--------+---------------+-----------+-----------+------+------+---------+-------+\n",
            "|emp_id|name    |superior_emp_id|year_joined|emp_dept_id|gender|salary|name     |dept_id|\n",
            "+------+--------+---------------+-----------+-----------+------+------+---------+-------+\n",
            "|1     |Smith   |-1             |2018       |10         |M     |3000  |Finance  |10     |\n",
            "|3     |Williams|1              |2010       |10         |M     |1000  |Finance  |10     |\n",
            "|4     |Jones   |2              |2005       |10         |F     |2000  |Finance  |10     |\n",
            "|2     |Rose    |1              |2010       |20         |M     |4000  |Marketing|20     |\n",
            "|6     |Brown   |2              |2010       |50         |      |-1    |NULL     |NULL   |\n",
            "|7     |Batman  |2              |2010       |           |      |-1    |NULL     |NULL   |\n",
            "|8     |Superman|2              |2010       |60         |      |-1    |NULL     |NULL   |\n",
            "|9     |        |2              |2010       |60         |      |-1    |NULL     |NULL   |\n",
            "|5     |Brown   |2              |2010       |40         |      |-1    |IT       |40     |\n",
            "+------+--------+---------------+-----------+-----------+------+------+---------+-------+\n",
            "\n"
          ]
        }
      ]
    },
    {
      "cell_type": "code",
      "source": [
        "# Create DataFrames and alias them\n",
        "empDF = spark.createDataFrame(data=emp, schema=empColumns).alias(\"emp\")\n",
        "deptDF = spark.createDataFrame(data=dept, schema=deptColumns).alias(\"dept\")\n",
        "\n",
        "# Rename Column During Joining\n",
        "resultDF2 = empDF.join(deptDF, col(\"emp.emp_dept_id\") == col(\"dept.dept_id\"), \"left_outer\") \\\n",
        "    .select(empDF[\"*\"], deptDF['name'].alias(\"department_name\"))\n",
        "\n",
        "resultDF2.show(truncate=False)"
      ],
      "metadata": {
        "colab": {
          "base_uri": "https://localhost:8080/"
        },
        "id": "itGfGFd_L0S7",
        "outputId": "dfc26d6d-07b1-44ef-c2f8-6f12a2d34d61"
      },
      "execution_count": null,
      "outputs": [
        {
          "output_type": "stream",
          "name": "stdout",
          "text": [
            "+------+--------+---------------+-----------+-----------+------+------+---------------+\n",
            "|emp_id|name    |superior_emp_id|year_joined|emp_dept_id|gender|salary|department_name|\n",
            "+------+--------+---------------+-----------+-----------+------+------+---------------+\n",
            "|1     |Smith   |-1             |2018       |10         |M     |3000  |Finance        |\n",
            "|3     |Williams|1              |2010       |10         |M     |1000  |Finance        |\n",
            "|4     |Jones   |2              |2005       |10         |F     |2000  |Finance        |\n",
            "|2     |Rose    |1              |2010       |20         |M     |4000  |Marketing      |\n",
            "|6     |Brown   |2              |2010       |50         |      |-1    |NULL           |\n",
            "|7     |Batman  |2              |2010       |           |      |-1    |NULL           |\n",
            "|8     |Superman|2              |2010       |60         |      |-1    |NULL           |\n",
            "|9     |        |2              |2010       |60         |      |-1    |NULL           |\n",
            "|5     |Brown   |2              |2010       |40         |      |-1    |IT             |\n",
            "+------+--------+---------------+-----------+-----------+------+------+---------------+\n",
            "\n"
          ]
        }
      ]
    },
    {
      "cell_type": "code",
      "source": [
        "# Create DataFrames and alias them\n",
        "#empDF = spark.createDataFrame(data=emp, schema=empColumns).alias(\"emp\")\n",
        "#deptDF = spark.createDataFrame(data=dept, schema=deptColumns).alias(\"dept\")\n",
        "\n",
        "\n",
        "# LEFT OUTER JOIN --- Her iki tabloda yer alan kayıtları güncellemek için kullanılabilir.\n",
        "# Eğer bir çalışanın departmanı varsa onun maaşını 50.000 olarak güncelle. Yanına deparman bilgilerini de ekle.*\n",
        "resultDF = empDF.join(deptDF, empDF.emp_dept_id == deptDF.dept_id, \"left_outer\") \\\n",
        "    .withColumn(\"salary\", when(col(\"dept_id\").isNotNull(), 50000).otherwise(col(\"salary\"))) \\\n",
        "    .drop(\"dept_id\")  # Drop the redundant column if needed\n",
        "\n",
        "resultDF.show(truncate=False)"
      ],
      "metadata": {
        "colab": {
          "base_uri": "https://localhost:8080/"
        },
        "id": "3RJMxzJpFvDw",
        "outputId": "17562694-a82c-4b0c-a802-ca699fa8107f"
      },
      "execution_count": null,
      "outputs": [
        {
          "output_type": "stream",
          "name": "stdout",
          "text": [
            "+------+--------+---------------+-----------+-----------+------+------+---------+\n",
            "|emp_id|name    |superior_emp_id|year_joined|emp_dept_id|gender|salary|name     |\n",
            "+------+--------+---------------+-----------+-----------+------+------+---------+\n",
            "|1     |Smith   |-1             |2018       |10         |M     |50000 |Finance  |\n",
            "|3     |Williams|1              |2010       |10         |M     |50000 |Finance  |\n",
            "|4     |Jones   |2              |2005       |10         |F     |50000 |Finance  |\n",
            "|2     |Rose    |1              |2010       |20         |M     |50000 |Marketing|\n",
            "|6     |Brown   |2              |2010       |50         |      |-1    |NULL     |\n",
            "|7     |Batman  |2              |2010       |           |      |-1    |NULL     |\n",
            "|8     |Superman|2              |2010       |60         |      |-1    |NULL     |\n",
            "|9     |        |2              |2010       |60         |      |-1    |NULL     |\n",
            "|5     |Brown   |2              |2010       |40         |      |50000 |IT       |\n",
            "+------+--------+---------------+-----------+-----------+------+------+---------+\n",
            "\n"
          ]
        }
      ]
    },
    {
      "cell_type": "code",
      "source": [
        "# LEFT OUTER JOIN --- Her iki tabloda yer alan kayıtları güncellemek için kullanılabilir.\n",
        "# Eğer bir çalışanın departmanı varsa onun maaşını 50.000 olarak güncelle. Yanına deparman bilgilerini de ekle.*\n",
        "resultDF = empDF.join(deptDF, empDF.emp_dept_id == deptDF.dept_id, \"left_outer\") \\\n",
        "    .withColumn(\"salary\", when(col(\"dept_id\").isNotNull(), 50000).otherwise(col(\"salary\")))\n",
        "\n",
        "resultDF.printSchema()\n",
        "\n",
        "resultDF.show(truncate=False)"
      ],
      "metadata": {
        "colab": {
          "base_uri": "https://localhost:8080/"
        },
        "id": "o1HOpJ7qn-a4",
        "outputId": "16cd40a5-160f-4519-b54b-ba2132cd7e86"
      },
      "execution_count": null,
      "outputs": [
        {
          "output_type": "stream",
          "name": "stdout",
          "text": [
            "root\n",
            " |-- emp_id: long (nullable = true)\n",
            " |-- name: string (nullable = true)\n",
            " |-- superior_emp_id: long (nullable = true)\n",
            " |-- year_joined: string (nullable = true)\n",
            " |-- emp_dept_id: string (nullable = true)\n",
            " |-- gender: string (nullable = true)\n",
            " |-- salary: long (nullable = true)\n",
            " |-- name: string (nullable = true)\n",
            " |-- dept_id: long (nullable = true)\n",
            "\n",
            "+------+--------+---------------+-----------+-----------+------+------+---------+-------+\n",
            "|emp_id|name    |superior_emp_id|year_joined|emp_dept_id|gender|salary|name     |dept_id|\n",
            "+------+--------+---------------+-----------+-----------+------+------+---------+-------+\n",
            "|1     |Smith   |-1             |2018       |10         |M     |50000 |Finance  |10     |\n",
            "|3     |Williams|1              |2010       |10         |M     |50000 |Finance  |10     |\n",
            "|4     |Jones   |2              |2005       |10         |F     |50000 |Finance  |10     |\n",
            "|2     |Rose    |1              |2010       |20         |M     |50000 |Marketing|20     |\n",
            "|6     |Brown   |2              |2010       |50         |      |-1    |NULL     |NULL   |\n",
            "|7     |Batman  |2              |2010       |           |      |-1    |NULL     |NULL   |\n",
            "|8     |Superman|2              |2010       |60         |      |-1    |NULL     |NULL   |\n",
            "|9     |        |2              |2010       |60         |      |-1    |NULL     |NULL   |\n",
            "|5     |Brown   |2              |2010       |40         |      |50000 |IT       |40     |\n",
            "+------+--------+---------------+-----------+-----------+------+------+---------+-------+\n",
            "\n"
          ]
        }
      ]
    },
    {
      "cell_type": "code",
      "source": [
        "# LEFT OUTER JOIN --- Her iki tabloda yer alan kayıtları güncellemek için kullanılabilir.\n",
        "# Eğer bir çalışanın departmanı varsa onun maaşını 50.000 olarak güncelle. Yanına dAeparman bilgilerini de ekle.*\n",
        "resultDF = empDF.join(deptDF, empDF.emp_dept_id == deptDF.dept_id, \"left_outer\") \\\n",
        "    .select(empDF[\"*\"],deptDF['name'].alias(\"department_name\"),deptDF['dept_id']) \\\n",
        "    .withColumn(\"salary\", when(col(\"dept_id\").isNotNull(), 50000).otherwise(col(\"salary\")))\n",
        "\n",
        "resultDF.show(truncate=False)"
      ],
      "metadata": {
        "colab": {
          "base_uri": "https://localhost:8080/"
        },
        "id": "hCyLUH4tHatL",
        "outputId": "296df9e2-01da-44b5-be31-1946a86f87ab"
      },
      "execution_count": null,
      "outputs": [
        {
          "output_type": "stream",
          "name": "stdout",
          "text": [
            "+------+--------+---------------+-----------+-----------+------+------+---------------+-------+\n",
            "|emp_id|name    |superior_emp_id|year_joined|emp_dept_id|gender|salary|department_name|dept_id|\n",
            "+------+--------+---------------+-----------+-----------+------+------+---------------+-------+\n",
            "|1     |Smith   |-1             |2018       |10         |M     |50000 |Finance        |10     |\n",
            "|3     |Williams|1              |2010       |10         |M     |50000 |Finance        |10     |\n",
            "|4     |Jones   |2              |2005       |10         |F     |50000 |Finance        |10     |\n",
            "|2     |Rose    |1              |2010       |20         |M     |50000 |Marketing      |20     |\n",
            "|6     |Brown   |2              |2010       |50         |      |-1    |NULL           |NULL   |\n",
            "|7     |Batman  |2              |2010       |           |      |-1    |NULL           |NULL   |\n",
            "|8     |Superman|2              |2010       |60         |      |-1    |NULL           |NULL   |\n",
            "|9     |        |2              |2010       |60         |      |-1    |NULL           |NULL   |\n",
            "|5     |Brown   |2              |2010       |40         |      |50000 |IT             |40     |\n",
            "+------+--------+---------------+-----------+-----------+------+------+---------------+-------+\n",
            "\n"
          ]
        }
      ]
    },
    {
      "cell_type": "code",
      "source": [
        "# Update the \"name\" column to \"NewName\" when the condition is met\n",
        "resultDF = resultDF.withColumn(\"name\", when(col(\"name\") == \"Superman\", \"Captain America\").otherwise(col(\"name\")))\n",
        "resultDF.show(truncate=False)"
      ],
      "metadata": {
        "colab": {
          "base_uri": "https://localhost:8080/"
        },
        "id": "HisevbbSL1I1",
        "outputId": "c5589986-b067-4e76-c9f0-16f865b7def0"
      },
      "execution_count": null,
      "outputs": [
        {
          "output_type": "stream",
          "name": "stdout",
          "text": [
            "+------+---------------+---------------+-----------+-----------+------+------+---------------+-------+\n",
            "|emp_id|name           |superior_emp_id|year_joined|emp_dept_id|gender|salary|department_name|dept_id|\n",
            "+------+---------------+---------------+-----------+-----------+------+------+---------------+-------+\n",
            "|1     |Smith          |-1             |2018       |10         |M     |50000 |Finance        |10     |\n",
            "|3     |Williams       |1              |2010       |10         |M     |50000 |Finance        |10     |\n",
            "|4     |Jones          |2              |2005       |10         |F     |50000 |Finance        |10     |\n",
            "|2     |Rose           |1              |2010       |20         |M     |50000 |Marketing      |20     |\n",
            "|6     |Brown          |2              |2010       |50         |      |-1    |NULL           |NULL   |\n",
            "|7     |Batman         |2              |2010       |           |      |-1    |NULL           |NULL   |\n",
            "|8     |Captain America|2              |2010       |60         |      |-1    |NULL           |NULL   |\n",
            "|9     |               |2              |2010       |60         |      |-1    |NULL           |NULL   |\n",
            "|5     |Brown          |2              |2010       |40         |      |50000 |IT             |40     |\n",
            "+------+---------------+---------------+-----------+-----------+------+------+---------------+-------+\n",
            "\n"
          ]
        }
      ]
    },
    {
      "cell_type": "markdown",
      "source": [
        "## Column Renaming"
      ],
      "metadata": {
        "id": "eTzbOhlrIqU1"
      }
    },
    {
      "cell_type": "code",
      "source": [
        "# Column Renaming\n",
        "\n",
        "lst=[]\n",
        "df_cols= resultDF.columns\n",
        "\n",
        "for i in df_cols:\n",
        "    if df_cols.count(i)==2:\n",
        "        ind=df_cols.index(i)\n",
        "        lst.append(ind)\n",
        "\n",
        "lst1=list(set(lst))\n",
        "for i in lst1:\n",
        "    df_cols[i]=df_cols[i]+'_0'\n",
        "\n",
        "## Columns: name_0, name\n",
        "resultDF= resultDF.toDF(*df_cols)\n",
        "resultDF.show()"
      ],
      "metadata": {
        "colab": {
          "base_uri": "https://localhost:8080/"
        },
        "id": "qrDd0NNuNWm-",
        "outputId": "57bb7fc8-19ee-405a-c4be-7535e7cb0d48"
      },
      "execution_count": null,
      "outputs": [
        {
          "output_type": "stream",
          "name": "stdout",
          "text": [
            "+------+--------+---------------+-----------+-----------+------+------+--------+\n",
            "|emp_id|  name_0|superior_emp_id|year_joined|emp_dept_id|gender|salary|    name|\n",
            "+------+--------+---------------+-----------+-----------+------+------+--------+\n",
            "|     1|   Smith|             -1|       2018|         10|     M|  3000|   Smith|\n",
            "|     3|Williams|              1|       2010|         10|     M|  1000|Williams|\n",
            "|     4|   Jones|              2|       2005|         10|     F|  2000|   Jones|\n",
            "|     2|    Rose|              1|       2010|         20|     M|  4000|    Rose|\n",
            "|     6|   Brown|              2|       2010|         50|      |     1|   Brown|\n",
            "|     7|  Batman|              2|       2010|           |      |     1|  Batman|\n",
            "|     8| NewName|              2|       2010|         60|      |     1| NewName|\n",
            "|     9|        |              2|       2010|         60|      |     1|        |\n",
            "|     5|   Brown|              2|       2010|         40|      |    -1|   Brown|\n",
            "+------+--------+---------------+-----------+-----------+------+------+--------+\n",
            "\n"
          ]
        }
      ]
    },
    {
      "cell_type": "markdown",
      "source": [
        "## lit Function"
      ],
      "metadata": {
        "id": "3jnmYlZgIzkp"
      }
    },
    {
      "cell_type": "markdown",
      "source": [
        "\n",
        "The **lit** function in PySpark is short for \"**literal**.\" Its primary purpose is to create a column expression for a literal value. In other words, it's used to represent a constant value or a literal in a PySpark DataFrame."
      ],
      "metadata": {
        "id": "PW1oQsxCeQiJ"
      }
    },
    {
      "cell_type": "code",
      "source": [
        "emp_term = [\n",
        "    (1, \"Smith\", -1, \"2018\", \"10\", \"M\", 3000, \"202301202312\"),\n",
        "    (2, \"Rose\", 1, \"2010\", \"20\", \"M\", 4000, \"202206202206\"),\n",
        "    (3, \"Williams\", 1, \"2010\", \"10\", \"M\", 1000, \"202209202209\"),\n",
        "    (4, \"Jones\", 2, \"2005\", \"10\", \"F\", 2000, \"202211202211\"),\n",
        "    (5, \"Brown\", 2, \"2010\", \"40\", \"\", -1, \"202208202208\"),\n",
        "    (7, \"Batman\", 2, \"2010\", \"\", \"\", -1, \"202210202210\"),\n",
        "    (8, \"Superman\", 2, \"2010\", \"60\", \"\", -1, \"\"),\n",
        "    (9, \"\", 2, \"2010\", \"60\", \"\", -1, \"202206202206\"),\n",
        "    (6, \"Brown\", 2, \"2010\", \"50\", \"\", -1, \"202205202205\")\n",
        "]\n",
        "emptColumns = [\"emp_id\",\"name\",\"superior_emp_id\",\"year_joined\", \"emp_dept_id\",\"gender\",\"salary\", \"term\"]\n",
        "\n",
        "emptDF = spark.createDataFrame(data=emp_term, schema = emptColumns)\n",
        "#emptDF.printSchema()\n",
        "emptDF.show(truncate=False)"
      ],
      "metadata": {
        "colab": {
          "base_uri": "https://localhost:8080/"
        },
        "id": "Y_t_zfMOJBlJ",
        "outputId": "aa6c1e7f-54d8-4354-aad8-9315a68cc6c9"
      },
      "execution_count": null,
      "outputs": [
        {
          "output_type": "stream",
          "name": "stdout",
          "text": [
            "+------+--------+---------------+-----------+-----------+------+------+------------+\n",
            "|emp_id|name    |superior_emp_id|year_joined|emp_dept_id|gender|salary|term        |\n",
            "+------+--------+---------------+-----------+-----------+------+------+------------+\n",
            "|1     |Smith   |-1             |2018       |10         |M     |3000  |202301202312|\n",
            "|2     |Rose    |1              |2010       |20         |M     |4000  |202206202206|\n",
            "|3     |Williams|1              |2010       |10         |M     |1000  |202209202209|\n",
            "|4     |Jones   |2              |2005       |10         |F     |2000  |202211202211|\n",
            "|5     |Brown   |2              |2010       |40         |      |-1    |202208202208|\n",
            "|7     |Batman  |2              |2010       |           |      |-1    |202210202210|\n",
            "|8     |Superman|2              |2010       |60         |      |-1    |            |\n",
            "|9     |        |2              |2010       |60         |      |-1    |202206202206|\n",
            "|6     |Brown   |2              |2010       |50         |      |-1    |202205202205|\n",
            "+------+--------+---------------+-----------+-----------+------+------+------------+\n",
            "\n"
          ]
        }
      ]
    },
    {
      "cell_type": "code",
      "source": [
        "dept = [(\"Finance\",10), \\\n",
        "    (\"Marketing\",20), \\\n",
        "    (\"Sales\",30), \\\n",
        "    (\"Big Data\",90), \\\n",
        "    (\"IT\",40) \\\n",
        "  ]\n",
        "deptColumns = [\"name\",\"dept_id\"]\n",
        "deptDF = spark.createDataFrame(data=dept, schema = deptColumns)\n",
        "#deptDF.printSchema()\n",
        "deptDF.show(truncate=False)"
      ],
      "metadata": {
        "colab": {
          "base_uri": "https://localhost:8080/"
        },
        "id": "G-BwtAG_L6tC",
        "outputId": "698beb38-1e01-4b1b-fc27-c3c8967adda0"
      },
      "execution_count": null,
      "outputs": [
        {
          "output_type": "stream",
          "name": "stdout",
          "text": [
            "+---------+-------+\n",
            "|name     |dept_id|\n",
            "+---------+-------+\n",
            "|Finance  |10     |\n",
            "|Marketing|20     |\n",
            "|Sales    |30     |\n",
            "|Big Data |90     |\n",
            "|IT       |40     |\n",
            "+---------+-------+\n",
            "\n"
          ]
        }
      ]
    },
    {
      "cell_type": "code",
      "source": [
        "# Create new column from \"term\" field\n",
        "df = emptDF.withColumn(\"BASYIL\",substring('term',1,4))\\\n",
        "            .withColumn(\"BASAY\",substring('term',5,2))\\\n",
        "            .withColumn(\"BITYIL\",substring('term',7,4))\\\n",
        "            .withColumn(\"BITAY\",substring('term',11,2))\n",
        "df.printSchema()\n",
        "df.show(truncate=False)"
      ],
      "metadata": {
        "colab": {
          "base_uri": "https://localhost:8080/"
        },
        "id": "582CQsBvLeDa",
        "outputId": "b24c3d26-c8e1-4667-ae83-62a169cc7775"
      },
      "execution_count": null,
      "outputs": [
        {
          "output_type": "stream",
          "name": "stdout",
          "text": [
            "root\n",
            " |-- emp_id: long (nullable = true)\n",
            " |-- name: string (nullable = true)\n",
            " |-- superior_emp_id: long (nullable = true)\n",
            " |-- year_joined: string (nullable = true)\n",
            " |-- emp_dept_id: string (nullable = true)\n",
            " |-- gender: string (nullable = true)\n",
            " |-- salary: long (nullable = true)\n",
            " |-- term: string (nullable = true)\n",
            " |-- BASYIL: string (nullable = true)\n",
            " |-- BASAY: string (nullable = true)\n",
            " |-- BITYIL: string (nullable = true)\n",
            " |-- BITAY: string (nullable = true)\n",
            "\n",
            "+------+--------+---------------+-----------+-----------+------+------+------------+------+-----+------+-----+\n",
            "|emp_id|name    |superior_emp_id|year_joined|emp_dept_id|gender|salary|term        |BASYIL|BASAY|BITYIL|BITAY|\n",
            "+------+--------+---------------+-----------+-----------+------+------+------------+------+-----+------+-----+\n",
            "|1     |Smith   |-1             |2018       |10         |M     |3000  |202301202312|2023  |01   |2023  |12   |\n",
            "|2     |Rose    |1              |2010       |20         |M     |4000  |202206202206|2022  |06   |2022  |06   |\n",
            "|3     |Williams|1              |2010       |10         |M     |1000  |202209202209|2022  |09   |2022  |09   |\n",
            "|4     |Jones   |2              |2005       |10         |F     |2000  |202211202211|2022  |11   |2022  |11   |\n",
            "|5     |Brown   |2              |2010       |40         |      |-1    |202208202208|2022  |08   |2022  |08   |\n",
            "|7     |Batman  |2              |2010       |           |      |-1    |202210202210|2022  |10   |2022  |10   |\n",
            "|8     |Superman|2              |2010       |60         |      |-1    |            |      |     |      |     |\n",
            "|9     |        |2              |2010       |60         |      |-1    |202206202206|2022  |06   |2022  |06   |\n",
            "|6     |Brown   |2              |2010       |50         |      |-1    |202205202205|2022  |05   |2022  |05   |\n",
            "+------+--------+---------------+-----------+-----------+------+------+------------+------+-----+------+-----+\n",
            "\n"
          ]
        }
      ]
    },
    {
      "cell_type": "code",
      "source": [
        "emp_term = [\n",
        "    (1, \"Smith\", -1, \"2018\", \"10\", \"M\", 3000, \"201611201710\",\"2017(08)\",\"2014\"),\n",
        "    (10, \"Robin Hood\", 2, \"2010\", \"60\", \"\", 128000, \"201611201710\",\"2017(08)\",\"2016\"),\n",
        "    (11, \"Hulk\", 2, \"2010\", \"60\", \"\", 80000, \"201611201710\",\"2017(08)\",\"2017\"),\n",
        "    (12, \"Spider Man\", 2, \"2019\", \"40\", \"\", -1, \"201701201712\",\"2015(01-12) 2016(01-12)\",\"2014\"),\n",
        "    (13, \"Doctor Strange\", 2, \"2015\", \"40\", \"\", -1, \"201701201712\",\"2015(01-12) 2016(01-12)\",\"2016\"),\n",
        "    (14, \"Thor\", 2, \"2012\", \"40\", \"\", -1, \"201701201712\",\"2015(01-12) 2016(01-12)\",\"2017\"),\n",
        "    (2, \"Rose\", 1, \"2010\", \"20\", \"M\", 4000, \"201701201712\",\"2015(01-12) 2016(01-12)\",\"2017\"),\n",
        "    (3, \"Williams\", 1, \"2010\", \"10\", \"M\", 1000, \"201701201712\",\"2015(01-12)\",\"2017\"),\n",
        "    (4, \"Jones\", 2, \"2005\", \"10\", \"F\", 2000, \"202211202211\",\"\",\"2022\"),\n",
        "    (5, \"Brown\", 2, \"2010\", \"40\", \"\", -1, \"201701201712\",\"2015(01-12) 2016(01-12)\",\"2014\"),\n",
        "    (7, \"Batman\", 2, \"2010\", \"\", \"\", -1, \"202210202210\",\"\",\"2015\"),\n",
        "    (8, \"Superman\", 2, \"2010\", \"60\", \"\", -1, \"201701201712\",\"2015(01-12)\",\"2017\"),\n",
        "    (9, \"\", 2, \"2010\", \"60\", \"\", -1, \"201611201710\",\"2017(08)\",\"2016\"),\n",
        "    (6, \"Brown\", 2, \"2010\", \"50\", \"\", -1, \"201701201712\",\"2016(01-12)\",\"2018\")\n",
        "]\n",
        "emptColumns = [\"emp_id\",\"name\",\"superior_emp_id\",\"year_joined\", \"emp_dept_id\",\"gender\",\"salary\", \"term\", \"control_term\", \"maxyil\"]\n",
        "\n",
        "emptDF = spark.createDataFrame(data=emp_term, schema = emptColumns)\n",
        "#emptDF.printSchema()\n",
        "emptDF.show(truncate=False)"
      ],
      "metadata": {
        "colab": {
          "base_uri": "https://localhost:8080/"
        },
        "id": "XsoFYdSSO338",
        "outputId": "91fac8ac-33cc-4e9b-89a8-6a4a60c06bd2"
      },
      "execution_count": 60,
      "outputs": [
        {
          "output_type": "stream",
          "name": "stdout",
          "text": [
            "+------+--------------+---------------+-----------+-----------+------+------+------------+-----------------------+------+\n",
            "|emp_id|name          |superior_emp_id|year_joined|emp_dept_id|gender|salary|term        |control_term           |maxyil|\n",
            "+------+--------------+---------------+-----------+-----------+------+------+------------+-----------------------+------+\n",
            "|1     |Smith         |-1             |2018       |10         |M     |3000  |201611201710|2017(08)               |2014  |\n",
            "|10    |Robin Hood    |2              |2010       |60         |      |128000|201611201710|2017(08)               |2016  |\n",
            "|11    |Hulk          |2              |2010       |60         |      |80000 |201611201710|2017(08)               |2017  |\n",
            "|12    |Spider Man    |2              |2019       |40         |      |-1    |201701201712|2015(01-12) 2016(01-12)|2014  |\n",
            "|13    |Doctor Strange|2              |2015       |40         |      |-1    |201701201712|2015(01-12) 2016(01-12)|2016  |\n",
            "|14    |Thor          |2              |2012       |40         |      |-1    |201701201712|2015(01-12) 2016(01-12)|2017  |\n",
            "|2     |Rose          |1              |2010       |20         |M     |4000  |201701201712|2015(01-12) 2016(01-12)|2017  |\n",
            "|3     |Williams      |1              |2010       |10         |M     |1000  |201701201712|2015(01-12)            |2017  |\n",
            "|4     |Jones         |2              |2005       |10         |F     |2000  |202211202211|                       |2022  |\n",
            "|5     |Brown         |2              |2010       |40         |      |-1    |201701201712|2015(01-12) 2016(01-12)|2014  |\n",
            "|7     |Batman        |2              |2010       |           |      |-1    |202210202210|                       |2015  |\n",
            "|8     |Superman      |2              |2010       |60         |      |-1    |201701201712|2015(01-12)            |2017  |\n",
            "|9     |              |2              |2010       |60         |      |-1    |201611201710|2017(08)               |2016  |\n",
            "|6     |Brown         |2              |2010       |50         |      |-1    |201701201712|2016(01-12)            |2018  |\n",
            "+------+--------------+---------------+-----------+-----------+------+------+------------+-----------------------+------+\n",
            "\n"
          ]
        }
      ]
    },
    {
      "cell_type": "code",
      "source": [
        "# Create new column from \"term\" field\n",
        "df2 = emptDF.withColumn(\"basyil\",substring('term',1,4))\\\n",
        "            .withColumn(\"basay\",substring('term',5,2))\\\n",
        "            .withColumn(\"bityil\",substring('term',7,4))\\\n",
        "            .withColumn(\"bitay\",substring('term',11,2))\n",
        "#df2.printSchema()\n",
        "df2.show(truncate=False)"
      ],
      "metadata": {
        "colab": {
          "base_uri": "https://localhost:8080/"
        },
        "id": "1AgTMvmMQVKJ",
        "outputId": "adddb23c-a582-4fa5-dedb-13142bd17fbd"
      },
      "execution_count": 61,
      "outputs": [
        {
          "output_type": "stream",
          "name": "stdout",
          "text": [
            "+------+--------------+---------------+-----------+-----------+------+------+------------+-----------------------+------+------+-----+------+-----+\n",
            "|emp_id|name          |superior_emp_id|year_joined|emp_dept_id|gender|salary|term        |control_term           |maxyil|basyil|basay|bityil|bitay|\n",
            "+------+--------------+---------------+-----------+-----------+------+------+------------+-----------------------+------+------+-----+------+-----+\n",
            "|1     |Smith         |-1             |2018       |10         |M     |3000  |201611201710|2017(08)               |2014  |2016  |11   |2017  |10   |\n",
            "|10    |Robin Hood    |2              |2010       |60         |      |128000|201611201710|2017(08)               |2016  |2016  |11   |2017  |10   |\n",
            "|11    |Hulk          |2              |2010       |60         |      |80000 |201611201710|2017(08)               |2017  |2016  |11   |2017  |10   |\n",
            "|12    |Spider Man    |2              |2019       |40         |      |-1    |201701201712|2015(01-12) 2016(01-12)|2014  |2017  |01   |2017  |12   |\n",
            "|13    |Doctor Strange|2              |2015       |40         |      |-1    |201701201712|2015(01-12) 2016(01-12)|2016  |2017  |01   |2017  |12   |\n",
            "|14    |Thor          |2              |2012       |40         |      |-1    |201701201712|2015(01-12) 2016(01-12)|2017  |2017  |01   |2017  |12   |\n",
            "|2     |Rose          |1              |2010       |20         |M     |4000  |201701201712|2015(01-12) 2016(01-12)|2017  |2017  |01   |2017  |12   |\n",
            "|3     |Williams      |1              |2010       |10         |M     |1000  |201701201712|2015(01-12)            |2017  |2017  |01   |2017  |12   |\n",
            "|4     |Jones         |2              |2005       |10         |F     |2000  |202211202211|                       |2022  |2022  |11   |2022  |11   |\n",
            "|5     |Brown         |2              |2010       |40         |      |-1    |201701201712|2015(01-12) 2016(01-12)|2014  |2017  |01   |2017  |12   |\n",
            "|7     |Batman        |2              |2010       |           |      |-1    |202210202210|                       |2015  |2022  |10   |2022  |10   |\n",
            "|8     |Superman      |2              |2010       |60         |      |-1    |201701201712|2015(01-12)            |2017  |2017  |01   |2017  |12   |\n",
            "|9     |              |2              |2010       |60         |      |-1    |201611201710|2017(08)               |2016  |2016  |11   |2017  |10   |\n",
            "|6     |Brown         |2              |2010       |50         |      |-1    |201701201712|2016(01-12)            |2018  |2017  |01   |2017  |12   |\n",
            "+------+--------------+---------------+-----------+-----------+------+------+------------+-----------------------+------+------+-----+------+-----+\n",
            "\n"
          ]
        }
      ]
    },
    {
      "cell_type": "code",
      "source": [
        "'''\n",
        "control_term=\n",
        "  control_term +\n",
        "      CASE WHEN MAXYIL<>BASYIL THEN ') '+BASYIL+'(' ELSE ',' END +\n",
        "        CASE WHEN BASYIL=BITYIL\n",
        "          THEN CASE WHEN BASAY=BITAY\n",
        "                    THEN BASAY\n",
        "                    ELSE BASAY+'-'+BITAY END\n",
        "          ELSE BASYIL+BASAY+'-'+BITYIL+BITAY END\n",
        "'''"
      ],
      "metadata": {
        "id": "hRTqSDmfWWFT"
      },
      "execution_count": null,
      "outputs": []
    },
    {
      "cell_type": "code",
      "source": [
        "# INSERT INTO\n",
        "\n",
        "# control_term=control_term+CASE WHEN MAXYIL<>BASYIL THEN ') '+BASYIL+'(' ELSE ',' END+CASE WHEN BASYIL=BITYIL THEN CASE WHEN BASAY=BITAY THEN BASAY ELSE BASAY+'-'+BITAY END ELSE BASYIL+BASAY+'-'+BITYIL+BITAY END\n",
        "df3 = df2.withColumn(\n",
        "    'control_term_new',\n",
        "    concat(\n",
        "        col(\"control_term\"),\n",
        "        # CASE WHEN MAXYIL<>BASYIL THEN ') '+BASYIL+'(' ELSE ',' END +\n",
        "        when(\n",
        "            col(\"maxyil\") != col(\"basyil\"),\n",
        "            concat(lit(') '), col(\"basyil\"), lit('('))\n",
        "        ).otherwise(lit(',')),\n",
        "        # CASE WHEN BASYIL=BITYIL\n",
        "        #      THEN CASE WHEN BASAY=BITAY THEN BASAY ELSE BASAY+'-'+BITAY END\n",
        "        when(\n",
        "            (col(\"basyil\") == col(\"bityil\")) & (col(\"basay\") == col(\"bitay\")),\n",
        "            col(\"basay\")\n",
        "        ).otherwise(concat(col(\"basyil\"), col(\"basay\"), lit('-'), col(\"bityil\"), col(\"bitay\")))\n",
        "    )\n",
        ")\n",
        "#df3.printSchema()\n",
        "df3.show(truncate=False)"
      ],
      "metadata": {
        "colab": {
          "base_uri": "https://localhost:8080/"
        },
        "id": "MOuJI_JmZGQc",
        "outputId": "e0c8579c-4272-49f7-e8db-7780b6c4d3bc"
      },
      "execution_count": 62,
      "outputs": [
        {
          "output_type": "stream",
          "name": "stdout",
          "text": [
            "+------+--------------+---------------+-----------+-----------+------+------+------------+-----------------------+------+------+-----+------+-----+-------------------------------------------+\n",
            "|emp_id|name          |superior_emp_id|year_joined|emp_dept_id|gender|salary|term        |control_term           |maxyil|basyil|basay|bityil|bitay|control_term_new                           |\n",
            "+------+--------------+---------------+-----------+-----------+------+------+------------+-----------------------+------+------+-----+------+-----+-------------------------------------------+\n",
            "|1     |Smith         |-1             |2018       |10         |M     |3000  |201611201710|2017(08)               |2014  |2016  |11   |2017  |10   |2017(08)) 2016(201611-201710               |\n",
            "|10    |Robin Hood    |2              |2010       |60         |      |128000|201611201710|2017(08)               |2016  |2016  |11   |2017  |10   |2017(08),201611-201710                     |\n",
            "|11    |Hulk          |2              |2010       |60         |      |80000 |201611201710|2017(08)               |2017  |2016  |11   |2017  |10   |2017(08)) 2016(201611-201710               |\n",
            "|12    |Spider Man    |2              |2019       |40         |      |-1    |201701201712|2015(01-12) 2016(01-12)|2014  |2017  |01   |2017  |12   |2015(01-12) 2016(01-12)) 2017(201701-201712|\n",
            "|13    |Doctor Strange|2              |2015       |40         |      |-1    |201701201712|2015(01-12) 2016(01-12)|2016  |2017  |01   |2017  |12   |2015(01-12) 2016(01-12)) 2017(201701-201712|\n",
            "|14    |Thor          |2              |2012       |40         |      |-1    |201701201712|2015(01-12) 2016(01-12)|2017  |2017  |01   |2017  |12   |2015(01-12) 2016(01-12),201701-201712      |\n",
            "|2     |Rose          |1              |2010       |20         |M     |4000  |201701201712|2015(01-12) 2016(01-12)|2017  |2017  |01   |2017  |12   |2015(01-12) 2016(01-12),201701-201712      |\n",
            "|3     |Williams      |1              |2010       |10         |M     |1000  |201701201712|2015(01-12)            |2017  |2017  |01   |2017  |12   |2015(01-12),201701-201712                  |\n",
            "|4     |Jones         |2              |2005       |10         |F     |2000  |202211202211|                       |2022  |2022  |11   |2022  |11   |,11                                        |\n",
            "|5     |Brown         |2              |2010       |40         |      |-1    |201701201712|2015(01-12) 2016(01-12)|2014  |2017  |01   |2017  |12   |2015(01-12) 2016(01-12)) 2017(201701-201712|\n",
            "|7     |Batman        |2              |2010       |           |      |-1    |202210202210|                       |2015  |2022  |10   |2022  |10   |) 2022(10                                  |\n",
            "|8     |Superman      |2              |2010       |60         |      |-1    |201701201712|2015(01-12)            |2017  |2017  |01   |2017  |12   |2015(01-12),201701-201712                  |\n",
            "|9     |              |2              |2010       |60         |      |-1    |201611201710|2017(08)               |2016  |2016  |11   |2017  |10   |2017(08),201611-201710                     |\n",
            "|6     |Brown         |2              |2010       |50         |      |-1    |201701201712|2016(01-12)            |2018  |2017  |01   |2017  |12   |2016(01-12)) 2017(201701-201712            |\n",
            "+------+--------------+---------------+-----------+-----------+------+------+------------+-----------------------+------+------+-----+------+-----+-------------------------------------------+\n",
            "\n"
          ]
        }
      ]
    },
    {
      "cell_type": "code",
      "source": [
        "# INSERT INTO\n",
        "\n",
        "# control_term=control_term+CASE WHEN MAXYIL<>BASYIL THEN ') '+BASYIL+'(' ELSE ',' END+CASE WHEN BASYIL=BITYIL THEN CASE WHEN BASAY=BITAY THEN BASAY ELSE BASAY+'-'+BITAY END ELSE BASYIL+BASAY+'-'+BITYIL+BITAY END\n",
        "df4 = df2.withColumn(\n",
        "    'control_term_new',\n",
        "    concat(\n",
        "        col(\"control_term\"),\n",
        "        when(\n",
        "            col(\"maxyil\") != col(\"basyil\"),\n",
        "            concat(lit(') '), col(\"basyil\"), lit('('))\n",
        "        ).otherwise(lit(',')),\n",
        "        when(\n",
        "            (col(\"basyil\") == col(\"bityil\")) & (col(\"basay\") == col(\"bitay\")),\n",
        "            col(\"basay\")\n",
        "        ).otherwise(concat(col(\"basyil\"), col(\"basay\"), lit('-'), col(\"bityil\"), col(\"bitay\")))\n",
        "    )\n",
        ")\n",
        "#df4.printSchema()\n",
        "df4.show(truncate=False)"
      ],
      "metadata": {
        "colab": {
          "base_uri": "https://localhost:8080/"
        },
        "id": "MGgviYy-YYXG",
        "outputId": "08bc9b48-9f34-4768-ad4a-2857728ee167"
      },
      "execution_count": 63,
      "outputs": [
        {
          "output_type": "stream",
          "name": "stdout",
          "text": [
            "+------+--------------+---------------+-----------+-----------+------+------+------------+-----------------------+------+------+-----+------+-----+-------------------------------------------+\n",
            "|emp_id|name          |superior_emp_id|year_joined|emp_dept_id|gender|salary|term        |control_term           |maxyil|basyil|basay|bityil|bitay|control_term_new                           |\n",
            "+------+--------------+---------------+-----------+-----------+------+------+------------+-----------------------+------+------+-----+------+-----+-------------------------------------------+\n",
            "|1     |Smith         |-1             |2018       |10         |M     |3000  |201611201710|2017(08)               |2014  |2016  |11   |2017  |10   |2017(08)) 2016(201611-201710               |\n",
            "|10    |Robin Hood    |2              |2010       |60         |      |128000|201611201710|2017(08)               |2016  |2016  |11   |2017  |10   |2017(08),201611-201710                     |\n",
            "|11    |Hulk          |2              |2010       |60         |      |80000 |201611201710|2017(08)               |2017  |2016  |11   |2017  |10   |2017(08)) 2016(201611-201710               |\n",
            "|12    |Spider Man    |2              |2019       |40         |      |-1    |201701201712|2015(01-12) 2016(01-12)|2014  |2017  |01   |2017  |12   |2015(01-12) 2016(01-12)) 2017(201701-201712|\n",
            "|13    |Doctor Strange|2              |2015       |40         |      |-1    |201701201712|2015(01-12) 2016(01-12)|2016  |2017  |01   |2017  |12   |2015(01-12) 2016(01-12)) 2017(201701-201712|\n",
            "|14    |Thor          |2              |2012       |40         |      |-1    |201701201712|2015(01-12) 2016(01-12)|2017  |2017  |01   |2017  |12   |2015(01-12) 2016(01-12),201701-201712      |\n",
            "|2     |Rose          |1              |2010       |20         |M     |4000  |201701201712|2015(01-12) 2016(01-12)|2017  |2017  |01   |2017  |12   |2015(01-12) 2016(01-12),201701-201712      |\n",
            "|3     |Williams      |1              |2010       |10         |M     |1000  |201701201712|2015(01-12)            |2017  |2017  |01   |2017  |12   |2015(01-12),201701-201712                  |\n",
            "|4     |Jones         |2              |2005       |10         |F     |2000  |202211202211|                       |2022  |2022  |11   |2022  |11   |,11                                        |\n",
            "|5     |Brown         |2              |2010       |40         |      |-1    |201701201712|2015(01-12) 2016(01-12)|2014  |2017  |01   |2017  |12   |2015(01-12) 2016(01-12)) 2017(201701-201712|\n",
            "|7     |Batman        |2              |2010       |           |      |-1    |202210202210|                       |2015  |2022  |10   |2022  |10   |) 2022(10                                  |\n",
            "|8     |Superman      |2              |2010       |60         |      |-1    |201701201712|2015(01-12)            |2017  |2017  |01   |2017  |12   |2015(01-12),201701-201712                  |\n",
            "|9     |              |2              |2010       |60         |      |-1    |201611201710|2017(08)               |2016  |2016  |11   |2017  |10   |2017(08),201611-201710                     |\n",
            "|6     |Brown         |2              |2010       |50         |      |-1    |201701201712|2016(01-12)            |2018  |2017  |01   |2017  |12   |2016(01-12)) 2017(201701-201712            |\n",
            "+------+--------------+---------------+-----------+-----------+------+------+------------+-----------------------+------+------+-----+------+-----+-------------------------------------------+\n",
            "\n"
          ]
        }
      ]
    },
    {
      "cell_type": "code",
      "source": [
        "# INSERT INTO\n",
        "\n",
        "# control_term=control_term+CASE WHEN MAXYIL<>BASYIL THEN ') '+BASYIL+'(' ELSE ',' END+CASE WHEN BASYIL=BITYIL THEN CASE WHEN BASAY=BITAY THEN BASAY ELSE BASAY+'-'+BITAY END ELSE BASYIL+BASAY+'-'+BITYIL+BITAY END\n",
        "df5 = df2.withColumn(\n",
        "    'control_term_new',\n",
        "    concat(\n",
        "        col(\"control_term\"),\n",
        "        when(\n",
        "            col(\"maxyil\") != col(\"basyil\"),\n",
        "            concat(lit(') '), col(\"basyil\"), lit('('))\n",
        "        ).otherwise(lit(',')),\n",
        "        when(\n",
        "            col(\"basyil\") == col(\"bityil\"),\n",
        "            when(\n",
        "                col(\"basay\") == col(\"bitay\"),\n",
        "                col(\"basay\")\n",
        "            ).otherwise(concat(col(\"basay\"), lit('-'), col(\"bitay\")))\n",
        "        ).otherwise(concat(col(\"basyil\"), col(\"basay\"), lit('-'), col(\"bityil\"), col(\"bitay\")))\n",
        "    )\n",
        ")\n",
        "#df3.printSchema()\n",
        "df5.show(truncate=False)"
      ],
      "metadata": {
        "colab": {
          "base_uri": "https://localhost:8080/"
        },
        "id": "Ly5V5BpbVSEi",
        "outputId": "8da1e773-5af5-4cbb-f69c-fd1428b5f0f2"
      },
      "execution_count": 65,
      "outputs": [
        {
          "output_type": "stream",
          "name": "stdout",
          "text": [
            "+------+--------------+---------------+-----------+-----------+------+------+------------+-----------------------+------+------+-----+------+-----+-----------------------------------+\n",
            "|emp_id|name          |superior_emp_id|year_joined|emp_dept_id|gender|salary|term        |control_term           |maxyil|basyil|basay|bityil|bitay|control_term_new                   |\n",
            "+------+--------------+---------------+-----------+-----------+------+------+------------+-----------------------+------+------+-----+------+-----+-----------------------------------+\n",
            "|1     |Smith         |-1             |2018       |10         |M     |3000  |201611201710|2017(08)               |2014  |2016  |11   |2017  |10   |2017(08)) 2016(201611-201710       |\n",
            "|10    |Robin Hood    |2              |2010       |60         |      |128000|201611201710|2017(08)               |2016  |2016  |11   |2017  |10   |2017(08),201611-201710             |\n",
            "|11    |Hulk          |2              |2010       |60         |      |80000 |201611201710|2017(08)               |2017  |2016  |11   |2017  |10   |2017(08)) 2016(201611-201710       |\n",
            "|12    |Spider Man    |2              |2019       |40         |      |-1    |201701201712|2015(01-12) 2016(01-12)|2014  |2017  |01   |2017  |12   |2015(01-12) 2016(01-12)) 2017(01-12|\n",
            "|13    |Doctor Strange|2              |2015       |40         |      |-1    |201701201712|2015(01-12) 2016(01-12)|2016  |2017  |01   |2017  |12   |2015(01-12) 2016(01-12)) 2017(01-12|\n",
            "|14    |Thor          |2              |2012       |40         |      |-1    |201701201712|2015(01-12) 2016(01-12)|2017  |2017  |01   |2017  |12   |2015(01-12) 2016(01-12),01-12      |\n",
            "|2     |Rose          |1              |2010       |20         |M     |4000  |201701201712|2015(01-12) 2016(01-12)|2017  |2017  |01   |2017  |12   |2015(01-12) 2016(01-12),01-12      |\n",
            "|3     |Williams      |1              |2010       |10         |M     |1000  |201701201712|2015(01-12)            |2017  |2017  |01   |2017  |12   |2015(01-12),01-12                  |\n",
            "|4     |Jones         |2              |2005       |10         |F     |2000  |202211202211|                       |2022  |2022  |11   |2022  |11   |,11                                |\n",
            "|5     |Brown         |2              |2010       |40         |      |-1    |201701201712|2015(01-12) 2016(01-12)|2014  |2017  |01   |2017  |12   |2015(01-12) 2016(01-12)) 2017(01-12|\n",
            "|7     |Batman        |2              |2010       |           |      |-1    |202210202210|                       |2015  |2022  |10   |2022  |10   |) 2022(10                          |\n",
            "|8     |Superman      |2              |2010       |60         |      |-1    |201701201712|2015(01-12)            |2017  |2017  |01   |2017  |12   |2015(01-12),01-12                  |\n",
            "|9     |              |2              |2010       |60         |      |-1    |201611201710|2017(08)               |2016  |2016  |11   |2017  |10   |2017(08),201611-201710             |\n",
            "|6     |Brown         |2              |2010       |50         |      |-1    |201701201712|2016(01-12)            |2018  |2017  |01   |2017  |12   |2016(01-12)) 2017(01-12            |\n",
            "+------+--------------+---------------+-----------+-----------+------+------+------------+-----------------------+------+------+-----+------+-----+-----------------------------------+\n",
            "\n"
          ]
        }
      ]
    },
    {
      "cell_type": "code",
      "source": [
        "df5 = df2.withColumn( 'control_term_new', concat(lit('('), col(\"basyil\"), lit(')'))).show()"
      ],
      "metadata": {
        "colab": {
          "base_uri": "https://localhost:8080/"
        },
        "id": "QGxKXJqndT_h",
        "outputId": "dfd00326-88ac-4ac3-c084-7967dd56ebc9"
      },
      "execution_count": 68,
      "outputs": [
        {
          "output_type": "stream",
          "name": "stdout",
          "text": [
            "+------+--------------+---------------+-----------+-----------+------+------+------------+--------------------+------+------+-----+------+-----+----------------+\n",
            "|emp_id|          name|superior_emp_id|year_joined|emp_dept_id|gender|salary|        term|        control_term|maxyil|basyil|basay|bityil|bitay|control_term_new|\n",
            "+------+--------------+---------------+-----------+-----------+------+------+------------+--------------------+------+------+-----+------+-----+----------------+\n",
            "|     1|         Smith|             -1|       2018|         10|     M|  3000|201611201710|            2017(08)|  2014|  2016|   11|  2017|   10|          (2016)|\n",
            "|    10|    Robin Hood|              2|       2010|         60|      |128000|201611201710|            2017(08)|  2016|  2016|   11|  2017|   10|          (2016)|\n",
            "|    11|          Hulk|              2|       2010|         60|      | 80000|201611201710|            2017(08)|  2017|  2016|   11|  2017|   10|          (2016)|\n",
            "|    12|    Spider Man|              2|       2019|         40|      |    -1|201701201712|2015(01-12) 2016(...|  2014|  2017|   01|  2017|   12|          (2017)|\n",
            "|    13|Doctor Strange|              2|       2015|         40|      |    -1|201701201712|2015(01-12) 2016(...|  2016|  2017|   01|  2017|   12|          (2017)|\n",
            "|    14|          Thor|              2|       2012|         40|      |    -1|201701201712|2015(01-12) 2016(...|  2017|  2017|   01|  2017|   12|          (2017)|\n",
            "|     2|          Rose|              1|       2010|         20|     M|  4000|201701201712|2015(01-12) 2016(...|  2017|  2017|   01|  2017|   12|          (2017)|\n",
            "|     3|      Williams|              1|       2010|         10|     M|  1000|201701201712|         2015(01-12)|  2017|  2017|   01|  2017|   12|          (2017)|\n",
            "|     4|         Jones|              2|       2005|         10|     F|  2000|202211202211|                    |  2022|  2022|   11|  2022|   11|          (2022)|\n",
            "|     5|         Brown|              2|       2010|         40|      |    -1|201701201712|2015(01-12) 2016(...|  2014|  2017|   01|  2017|   12|          (2017)|\n",
            "|     7|        Batman|              2|       2010|           |      |    -1|202210202210|                    |  2015|  2022|   10|  2022|   10|          (2022)|\n",
            "|     8|      Superman|              2|       2010|         60|      |    -1|201701201712|         2015(01-12)|  2017|  2017|   01|  2017|   12|          (2017)|\n",
            "|     9|              |              2|       2010|         60|      |    -1|201611201710|            2017(08)|  2016|  2016|   11|  2017|   10|          (2016)|\n",
            "|     6|         Brown|              2|       2010|         50|      |    -1|201701201712|         2016(01-12)|  2018|  2017|   01|  2017|   12|          (2017)|\n",
            "+------+--------------+---------------+-----------+-----------+------+------+------------+--------------------+------+------+-----+------+-----+----------------+\n",
            "\n"
          ]
        }
      ]
    }
  ]
}