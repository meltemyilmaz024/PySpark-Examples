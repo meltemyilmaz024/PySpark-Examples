{
  "nbformat": 4,
  "nbformat_minor": 0,
  "metadata": {
    "colab": {
      "provenance": [],
      "authorship_tag": "ABX9TyNR2Lh85dWNseJsqQ4NSP1Z",
      "include_colab_link": true
    },
    "kernelspec": {
      "name": "python3",
      "display_name": "Python 3"
    },
    "language_info": {
      "name": "python"
    }
  },
  "cells": [
    {
      "cell_type": "markdown",
      "metadata": {
        "id": "view-in-github",
        "colab_type": "text"
      },
      "source": [
        "<a href=\"https://colab.research.google.com/github/meltemyilmaz024/PySpark-Examples/blob/main/Pyspark_Update_Mechanism.ipynb\" target=\"_parent\"><img src=\"https://colab.research.google.com/assets/colab-badge.svg\" alt=\"Open In Colab\"/></a>"
      ]
    },
    {
      "cell_type": "code",
      "source": [
        "pip install pyspark"
      ],
      "metadata": {
        "colab": {
          "base_uri": "https://localhost:8080/"
        },
        "id": "4hHUDSPlDAY_",
        "outputId": "8abdd1a7-2840-4350-874a-c568d1d2de53"
      },
      "execution_count": null,
      "outputs": [
        {
          "output_type": "stream",
          "name": "stdout",
          "text": [
            "Collecting pyspark\n",
            "  Downloading pyspark-3.5.0.tar.gz (316.9 MB)\n",
            "\u001b[2K     \u001b[90m━━━━━━━━━━━━━━━━━━━━━━━━━━━━━━━━━━━━━━━━\u001b[0m \u001b[32m316.9/316.9 MB\u001b[0m \u001b[31m4.4 MB/s\u001b[0m eta \u001b[36m0:00:00\u001b[0m\n",
            "\u001b[?25h  Preparing metadata (setup.py) ... \u001b[?25l\u001b[?25hdone\n",
            "Requirement already satisfied: py4j==0.10.9.7 in /usr/local/lib/python3.10/dist-packages (from pyspark) (0.10.9.7)\n",
            "Building wheels for collected packages: pyspark\n",
            "  Building wheel for pyspark (setup.py) ... \u001b[?25l\u001b[?25hdone\n",
            "  Created wheel for pyspark: filename=pyspark-3.5.0-py2.py3-none-any.whl size=317425345 sha256=2b5c4e7a97b23ff40b6687bfabb3e2b675ee5d2a23bd648df5756bd1b13249e8\n",
            "  Stored in directory: /root/.cache/pip/wheels/41/4e/10/c2cf2467f71c678cfc8a6b9ac9241e5e44a01940da8fbb17fc\n",
            "Successfully built pyspark\n",
            "Installing collected packages: pyspark\n",
            "Successfully installed pyspark-3.5.0\n"
          ]
        }
      ]
    },
    {
      "cell_type": "code",
      "execution_count": null,
      "metadata": {
        "colab": {
          "base_uri": "https://localhost:8080/"
        },
        "id": "kydmSkpPC7rD",
        "outputId": "a140da18-6998-4c1f-8fd5-dfaabbc072c2"
      },
      "outputs": [
        {
          "output_type": "stream",
          "name": "stdout",
          "text": [
            "root\n",
            " |-- emp_id: long (nullable = true)\n",
            " |-- name: string (nullable = true)\n",
            " |-- superior_emp_id: long (nullable = true)\n",
            " |-- year_joined: string (nullable = true)\n",
            " |-- emp_dept_id: string (nullable = true)\n",
            " |-- gender: string (nullable = true)\n",
            " |-- salary: long (nullable = true)\n",
            "\n",
            "+------+--------+---------------+-----------+-----------+------+------+\n",
            "|emp_id|name    |superior_emp_id|year_joined|emp_dept_id|gender|salary|\n",
            "+------+--------+---------------+-----------+-----------+------+------+\n",
            "|1     |Smith   |-1             |2018       |10         |M     |3000  |\n",
            "|2     |Rose    |1              |2010       |20         |M     |4000  |\n",
            "|3     |Williams|1              |2010       |10         |M     |1000  |\n",
            "|4     |Jones   |2              |2005       |10         |F     |2000  |\n",
            "|5     |Brown   |2              |2010       |40         |      |-1    |\n",
            "|7     |Batman  |2              |2010       |           |      |-1    |\n",
            "|8     |Superman|2              |2010       |60         |      |-1    |\n",
            "|9     |        |2              |2010       |60         |      |-1    |\n",
            "|6     |Brown   |2              |2010       |50         |      |-1    |\n",
            "+------+--------+---------------+-----------+-----------+------+------+\n",
            "\n",
            "root\n",
            " |-- name: string (nullable = true)\n",
            " |-- dept_id: long (nullable = true)\n",
            "\n",
            "+---------+-------+\n",
            "|name     |dept_id|\n",
            "+---------+-------+\n",
            "|Finance  |10     |\n",
            "|Marketing|20     |\n",
            "|Sales    |30     |\n",
            "|Big Data |90     |\n",
            "|IT       |40     |\n",
            "+---------+-------+\n",
            "\n"
          ]
        }
      ],
      "source": [
        "import pyspark\n",
        "from pyspark.sql import SparkSession\n",
        "from pyspark.sql.functions import col, when\n",
        "from pyspark.sql.functions import expr\n",
        "\n",
        "spark = SparkSession.builder.appName('SparkByExamples.com').getOrCreate()\n",
        "\n",
        "emp = [\n",
        "    (1, \"Smith\", -1, \"2018\", \"10\", \"M\", 3000),\n",
        "    (2, \"Rose\", 1, \"2010\", \"20\", \"M\", 4000),\n",
        "    (3, \"Williams\", 1, \"2010\", \"10\", \"M\", 1000),\n",
        "    (4, \"Jones\", 2, \"2005\", \"10\", \"F\", 2000),\n",
        "    (5, \"Brown\", 2, \"2010\", \"40\", \"\", -1),\n",
        "    (7, \"Batman\", 2, \"2010\", \"\", \"\", -1),\n",
        "    (8, \"Superman\", 2, \"2010\", \"60\", \"\", -1),\n",
        "    (9, \"\", 2, \"2010\", \"60\", \"\", -1),\n",
        "    (6, \"Brown\", 2, \"2010\", \"50\", \"\", -1)\n",
        "]\n",
        "empColumns = [\"emp_id\",\"name\",\"superior_emp_id\",\"year_joined\", \\\n",
        "       \"emp_dept_id\",\"gender\",\"salary\"]\n",
        "\n",
        "empDF = spark.createDataFrame(data=emp, schema = empColumns)\n",
        "empDF.printSchema()\n",
        "empDF.show(truncate=False)\n",
        "\n",
        "\n",
        "dept = [(\"Finance\",10), \\\n",
        "    (\"Marketing\",20), \\\n",
        "    (\"Sales\",30), \\\n",
        "    (\"Big Data\",90), \\\n",
        "    (\"IT\",40) \\\n",
        "  ]\n",
        "deptColumns = [\"name\",\"dept_id\"]\n",
        "deptDF = spark.createDataFrame(data=dept, schema = deptColumns)\n",
        "deptDF.printSchema()\n",
        "deptDF.show(truncate=False)"
      ]
    },
    {
      "cell_type": "code",
      "source": [
        "# LEFT OUTER JOIN\n",
        "empDF.join(deptDF,empDF.emp_dept_id ==  deptDF.dept_id) \\\n",
        "   .show(truncate=False)"
      ],
      "metadata": {
        "colab": {
          "base_uri": "https://localhost:8080/"
        },
        "id": "_CpW5wr035MH",
        "outputId": "e24f03ae-b4ba-480d-8916-361e3fc4661c"
      },
      "execution_count": null,
      "outputs": [
        {
          "output_type": "stream",
          "name": "stdout",
          "text": [
            "+------+--------+---------------+-----------+-----------+------+------+---------+-------+\n",
            "|emp_id|name    |superior_emp_id|year_joined|emp_dept_id|gender|salary|name     |dept_id|\n",
            "+------+--------+---------------+-----------+-----------+------+------+---------+-------+\n",
            "|3     |Williams|1              |2010       |10         |M     |1000  |Finance  |10     |\n",
            "|4     |Jones   |2              |2005       |10         |F     |2000  |Finance  |10     |\n",
            "|1     |Smith   |-1             |2018       |10         |M     |3000  |Finance  |10     |\n",
            "|2     |Rose    |1              |2010       |20         |M     |4000  |Marketing|20     |\n",
            "|5     |Brown   |2              |2010       |40         |      |-1    |IT       |40     |\n",
            "+------+--------+---------------+-----------+-----------+------+------+---------+-------+\n",
            "\n"
          ]
        }
      ]
    },
    {
      "cell_type": "code",
      "source": [
        "# INNER JOIN - I\n",
        "empDF.join(deptDF,empDF.emp_dept_id ==  deptDF.dept_id,\"inner\") \\\n",
        "   .show(truncate=False)"
      ],
      "metadata": {
        "colab": {
          "base_uri": "https://localhost:8080/"
        },
        "id": "3Qu2hie04YWo",
        "outputId": "b013abf7-7e02-47c4-efc1-a1b43f7535e2"
      },
      "execution_count": null,
      "outputs": [
        {
          "output_type": "stream",
          "name": "stdout",
          "text": [
            "+------+--------+---------------+-----------+-----------+------+------+---------+-------+\n",
            "|emp_id|name    |superior_emp_id|year_joined|emp_dept_id|gender|salary|name     |dept_id|\n",
            "+------+--------+---------------+-----------+-----------+------+------+---------+-------+\n",
            "|3     |Williams|1              |2010       |10         |M     |1000  |Finance  |10     |\n",
            "|4     |Jones   |2              |2005       |10         |F     |2000  |Finance  |10     |\n",
            "|1     |Smith   |-1             |2018       |10         |M     |3000  |Finance  |10     |\n",
            "|2     |Rose    |1              |2010       |20         |M     |4000  |Marketing|20     |\n",
            "|5     |Brown   |2              |2010       |40         |      |-1    |IT       |40     |\n",
            "+------+--------+---------------+-----------+-----------+------+------+---------+-------+\n",
            "\n"
          ]
        }
      ]
    },
    {
      "cell_type": "code",
      "source": [
        "# INNER JOIN - II\n",
        "empDF.join(deptDF,empDF.emp_dept_id ==  deptDF.dept_id) \\\n",
        "   .show(truncate=False)"
      ],
      "metadata": {
        "id": "Mc_GD7GMjgQt"
      },
      "execution_count": null,
      "outputs": []
    },
    {
      "cell_type": "code",
      "source": [
        "# LEFT OUTER JOIN\n",
        "empDF.join(deptDF,empDF.emp_dept_id ==  deptDF.dept_id,\"leftouter\") \\\n",
        "   .show(truncate=False)"
      ],
      "metadata": {
        "colab": {
          "base_uri": "https://localhost:8080/"
        },
        "id": "mSL2LxqPDave",
        "outputId": "b728dc84-d654-48d5-ed2d-66b0cfedc8c3"
      },
      "execution_count": null,
      "outputs": [
        {
          "output_type": "stream",
          "name": "stdout",
          "text": [
            "+------+--------+---------------+-----------+-----------+------+------+---------+-------+\n",
            "|emp_id|name    |superior_emp_id|year_joined|emp_dept_id|gender|salary|name     |dept_id|\n",
            "+------+--------+---------------+-----------+-----------+------+------+---------+-------+\n",
            "|1     |Smith   |-1             |2018       |10         |M     |3000  |Finance  |10     |\n",
            "|3     |Williams|1              |2010       |10         |M     |1000  |Finance  |10     |\n",
            "|4     |Jones   |2              |2005       |10         |F     |2000  |Finance  |10     |\n",
            "|2     |Rose    |1              |2010       |20         |M     |4000  |Marketing|20     |\n",
            "|6     |Brown   |2              |2010       |50         |      |-1    |NULL     |NULL   |\n",
            "|7     |Batman  |2              |2010       |           |      |-1    |NULL     |NULL   |\n",
            "|8     |Superman|2              |2010       |60         |      |-1    |NULL     |NULL   |\n",
            "|9     |        |2              |2010       |60         |      |-1    |NULL     |NULL   |\n",
            "|5     |Brown   |2              |2010       |40         |      |-1    |IT       |40     |\n",
            "+------+--------+---------------+-----------+-----------+------+------+---------+-------+\n",
            "\n"
          ]
        }
      ]
    },
    {
      "cell_type": "code",
      "source": [
        "# Create DataFrames and alias them\n",
        "empDF = spark.createDataFrame(data=emp, schema=empColumns).alias(\"emp\")\n",
        "deptDF = spark.createDataFrame(data=dept, schema=deptColumns).alias(\"dept\")\n",
        "\n",
        "# Rename Column During Joining\n",
        "resultDF2 = empDF.join(deptDF, col(\"emp.emp_dept_id\") == col(\"dept.dept_id\"), \"left_outer\") \\\n",
        "    .select(empDF[\"*\"], deptDF['name'].alias(\"department_name\"))\n",
        "\n",
        "resultDF2.show(truncate=False)"
      ],
      "metadata": {
        "colab": {
          "base_uri": "https://localhost:8080/"
        },
        "id": "itGfGFd_L0S7",
        "outputId": "10982036-0dfd-4f75-bcbd-337787ffd885"
      },
      "execution_count": null,
      "outputs": [
        {
          "output_type": "stream",
          "name": "stdout",
          "text": [
            "+------+--------+---------------+-----------+-----------+------+------+---------------+\n",
            "|emp_id|name    |superior_emp_id|year_joined|emp_dept_id|gender|salary|department_name|\n",
            "+------+--------+---------------+-----------+-----------+------+------+---------------+\n",
            "|1     |Smith   |-1             |2018       |10         |M     |3000  |Finance        |\n",
            "|3     |Williams|1              |2010       |10         |M     |1000  |Finance        |\n",
            "|4     |Jones   |2              |2005       |10         |F     |2000  |Finance        |\n",
            "|2     |Rose    |1              |2010       |20         |M     |4000  |Marketing      |\n",
            "|6     |Brown   |2              |2010       |50         |      |-1    |NULL           |\n",
            "|7     |Batman  |2              |2010       |           |      |-1    |NULL           |\n",
            "|8     |Superman|2              |2010       |60         |      |-1    |NULL           |\n",
            "|9     |        |2              |2010       |60         |      |-1    |NULL           |\n",
            "|5     |Brown   |2              |2010       |40         |      |-1    |IT             |\n",
            "+------+--------+---------------+-----------+-----------+------+------+---------------+\n",
            "\n"
          ]
        }
      ]
    },
    {
      "cell_type": "code",
      "source": [
        "# Create DataFrames and alias them\n",
        "#empDF = spark.createDataFrame(data=emp, schema=empColumns).alias(\"emp\")\n",
        "#deptDF = spark.createDataFrame(data=dept, schema=deptColumns).alias(\"dept\")\n",
        "\n",
        "\n",
        "# LEFT OUTER JOIN --- Her iki tabloda yer alan kayıtları güncellemek için kullanılabilir.\n",
        "# Eğer bir çalışanın departmanı varsa onun maaşını 50.000 olarak güncelle. Yanına deparman bilgilerini de ekle.*\n",
        "resultDF = empDF.join(deptDF, empDF.emp_dept_id == deptDF.dept_id, \"left_outer\") \\\n",
        "    .withColumn(\"salary\", when(col(\"dept_id\").isNotNull(), 50000).otherwise(col(\"salary\"))) \\\n",
        "    .drop(\"dept_id\")  # Drop the redundant column if needed\n",
        "\n",
        "resultDF.show(truncate=False)"
      ],
      "metadata": {
        "colab": {
          "base_uri": "https://localhost:8080/"
        },
        "id": "3RJMxzJpFvDw",
        "outputId": "f4cbf4f7-2677-4779-d257-257ebccf4c16"
      },
      "execution_count": null,
      "outputs": [
        {
          "output_type": "stream",
          "name": "stdout",
          "text": [
            "+------+--------+---------------+-----------+-----------+------+------+---------+\n",
            "|emp_id|name    |superior_emp_id|year_joined|emp_dept_id|gender|salary|name     |\n",
            "+------+--------+---------------+-----------+-----------+------+------+---------+\n",
            "|1     |Smith   |-1             |2018       |10         |M     |50000 |Finance  |\n",
            "|3     |Williams|1              |2010       |10         |M     |50000 |Finance  |\n",
            "|4     |Jones   |2              |2005       |10         |F     |50000 |Finance  |\n",
            "|2     |Rose    |1              |2010       |20         |M     |50000 |Marketing|\n",
            "|6     |Brown   |2              |2010       |50         |      |-1    |NULL     |\n",
            "|7     |Batman  |2              |2010       |           |      |-1    |NULL     |\n",
            "|8     |Superman|2              |2010       |60         |      |-1    |NULL     |\n",
            "|9     |        |2              |2010       |60         |      |-1    |NULL     |\n",
            "|5     |Brown   |2              |2010       |40         |      |50000 |IT       |\n",
            "+------+--------+---------------+-----------+-----------+------+------+---------+\n",
            "\n"
          ]
        }
      ]
    },
    {
      "cell_type": "code",
      "source": [
        "# LEFT OUTER JOIN --- Her iki tabloda yer alan kayıtları güncellemek için kullanılabilir.\n",
        "# Eğer bir çalışanın departmanı varsa onun maaşını 50.000 olarak güncelle. Yanına deparman bilgilerini de ekle.*\n",
        "resultDF = empDF.join(deptDF, empDF.emp_dept_id == deptDF.dept_id, \"left_outer\") \\\n",
        "    .select(empDF[\"*\"],deptDF['name'].alias(\"department_name\"),deptDF['dept_id']) \\\n",
        "    .withColumn(\"salary\", when(col(\"dept_id\").isNotNull(), 50000).otherwise(col(\"salary\")))\n",
        "\n",
        "resultDF.show(truncate=False)"
      ],
      "metadata": {
        "colab": {
          "base_uri": "https://localhost:8080/"
        },
        "id": "hCyLUH4tHatL",
        "outputId": "93fc00a9-aa0a-487d-b45a-1a54ce8c0a31"
      },
      "execution_count": null,
      "outputs": [
        {
          "output_type": "stream",
          "name": "stdout",
          "text": [
            "+------+--------+---------------+-----------+-----------+------+------+---------------+-------+\n",
            "|emp_id|name    |superior_emp_id|year_joined|emp_dept_id|gender|salary|department_name|dept_id|\n",
            "+------+--------+---------------+-----------+-----------+------+------+---------------+-------+\n",
            "|1     |Smith   |-1             |2018       |10         |M     |50000 |Finance        |10     |\n",
            "|3     |Williams|1              |2010       |10         |M     |50000 |Finance        |10     |\n",
            "|4     |Jones   |2              |2005       |10         |F     |50000 |Finance        |10     |\n",
            "|2     |Rose    |1              |2010       |20         |M     |50000 |Marketing      |20     |\n",
            "|6     |Brown   |2              |2010       |50         |      |-1    |NULL           |NULL   |\n",
            "|7     |Batman  |2              |2010       |           |      |-1    |NULL           |NULL   |\n",
            "|8     |Superman|2              |2010       |60         |      |-1    |NULL           |NULL   |\n",
            "|9     |        |2              |2010       |60         |      |-1    |NULL           |NULL   |\n",
            "|5     |Brown   |2              |2010       |40         |      |50000 |IT             |40     |\n",
            "+------+--------+---------------+-----------+-----------+------+------+---------------+-------+\n",
            "\n"
          ]
        }
      ]
    },
    {
      "cell_type": "code",
      "source": [
        "# Update the \"name\" column to \"NewName\" when the condition is met\n",
        "resultDF = resultDF.withColumn(\"name\", when(col(\"name\") == \"Superman\", \"Captain America\").otherwise(col(\"name\")))\n",
        "resultDF.show(truncate=False)"
      ],
      "metadata": {
        "colab": {
          "base_uri": "https://localhost:8080/"
        },
        "id": "HisevbbSL1I1",
        "outputId": "c5589986-b067-4e76-c9f0-16f865b7def0"
      },
      "execution_count": null,
      "outputs": [
        {
          "output_type": "stream",
          "name": "stdout",
          "text": [
            "+------+---------------+---------------+-----------+-----------+------+------+---------------+-------+\n",
            "|emp_id|name           |superior_emp_id|year_joined|emp_dept_id|gender|salary|department_name|dept_id|\n",
            "+------+---------------+---------------+-----------+-----------+------+------+---------------+-------+\n",
            "|1     |Smith          |-1             |2018       |10         |M     |50000 |Finance        |10     |\n",
            "|3     |Williams       |1              |2010       |10         |M     |50000 |Finance        |10     |\n",
            "|4     |Jones          |2              |2005       |10         |F     |50000 |Finance        |10     |\n",
            "|2     |Rose           |1              |2010       |20         |M     |50000 |Marketing      |20     |\n",
            "|6     |Brown          |2              |2010       |50         |      |-1    |NULL           |NULL   |\n",
            "|7     |Batman         |2              |2010       |           |      |-1    |NULL           |NULL   |\n",
            "|8     |Captain America|2              |2010       |60         |      |-1    |NULL           |NULL   |\n",
            "|9     |               |2              |2010       |60         |      |-1    |NULL           |NULL   |\n",
            "|5     |Brown          |2              |2010       |40         |      |50000 |IT             |40     |\n",
            "+------+---------------+---------------+-----------+-----------+------+------+---------------+-------+\n",
            "\n"
          ]
        }
      ]
    },
    {
      "cell_type": "code",
      "source": [
        "# Column Renaming\n",
        "\n",
        "lst=[]\n",
        "df_cols= resultDF.columns\n",
        "\n",
        "for i in df_cols:\n",
        "    if df_cols.count(i)==2:\n",
        "        ind=df_cols.index(i)\n",
        "        lst.append(ind)\n",
        "\n",
        "lst1=list(set(lst))\n",
        "for i in lst1:\n",
        "    df_cols[i]=df_cols[i]+'_0'\n",
        "\n",
        "## Columns: name_0, name\n",
        "resultDF= resultDF.toDF(*df_cols)\n",
        "resultDF.show()"
      ],
      "metadata": {
        "colab": {
          "base_uri": "https://localhost:8080/"
        },
        "id": "qrDd0NNuNWm-",
        "outputId": "57bb7fc8-19ee-405a-c4be-7535e7cb0d48"
      },
      "execution_count": null,
      "outputs": [
        {
          "output_type": "stream",
          "name": "stdout",
          "text": [
            "+------+--------+---------------+-----------+-----------+------+------+--------+\n",
            "|emp_id|  name_0|superior_emp_id|year_joined|emp_dept_id|gender|salary|    name|\n",
            "+------+--------+---------------+-----------+-----------+------+------+--------+\n",
            "|     1|   Smith|             -1|       2018|         10|     M|  3000|   Smith|\n",
            "|     3|Williams|              1|       2010|         10|     M|  1000|Williams|\n",
            "|     4|   Jones|              2|       2005|         10|     F|  2000|   Jones|\n",
            "|     2|    Rose|              1|       2010|         20|     M|  4000|    Rose|\n",
            "|     6|   Brown|              2|       2010|         50|      |     1|   Brown|\n",
            "|     7|  Batman|              2|       2010|           |      |     1|  Batman|\n",
            "|     8| NewName|              2|       2010|         60|      |     1| NewName|\n",
            "|     9|        |              2|       2010|         60|      |     1|        |\n",
            "|     5|   Brown|              2|       2010|         40|      |    -1|   Brown|\n",
            "+------+--------+---------------+-----------+-----------+------+------+--------+\n",
            "\n"
          ]
        }
      ]
    },
    {
      "cell_type": "code",
      "source": [
        "new_dataframe = empDF.filter(col(\"superior_emp_id\") == 2) \\\n",
        ".select(\n",
        "    col(\"emp_id\").alias(\"employee_id\"),\n",
        "    col(\"name\").alias(\"employee_name\"),\n",
        "    col(\"superior_emp_id\").alias(\"superior_employee_id\"),\n",
        "    expr(\"'ODM'\").alias(\"employee_type\"),\n",
        "    col(\"year_joined\").alias(\"start_time\"),\n",
        "    expr(\"\").alias(\"finish_time\")\n",
        ")\n",
        "\n",
        "new_dataframe.show()"
      ],
      "metadata": {
        "colab": {
          "base_uri": "https://localhost:8080/"
        },
        "id": "ZyC736ewKY1u",
        "outputId": "b8447003-fe0d-4df7-f5b4-553ea6fbc6cd"
      },
      "execution_count": null,
      "outputs": [
        {
          "output_type": "stream",
          "name": "stdout",
          "text": [
            "+-----------+-------------+--------------------+-------------+----------+-----------+\n",
            "|employee_id|employee_name|superior_employee_id|employee_type|start_time|finish_time|\n",
            "+-----------+-------------+--------------------+-------------+----------+-----------+\n",
            "|          4|        Jones|                   2|          ODM|      2005|       NULL|\n",
            "|          5|        Brown|                   2|          ODM|      2010|       NULL|\n",
            "|          7|       Batman|                   2|          ODM|      2010|       NULL|\n",
            "|          8|     Superman|                   2|          ODM|      2010|       NULL|\n",
            "|          9|             |                   2|          ODM|      2010|       NULL|\n",
            "|          6|        Brown|                   2|          ODM|      2010|       NULL|\n",
            "+-----------+-------------+--------------------+-------------+----------+-----------+\n",
            "\n"
          ]
        }
      ]
    }
  ]
}